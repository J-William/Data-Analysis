{
 "cells": [
  {
   "cell_type": "code",
   "execution_count": 262,
   "id": "29e1f8b6",
   "metadata": {},
   "outputs": [],
   "source": [
    "import pandas as pd\n",
    "import numpy as np\n",
    "import matplotlib as m"
   ]
  },
  {
   "cell_type": "code",
   "execution_count": 113,
   "id": "7f07e65e",
   "metadata": {},
   "outputs": [],
   "source": [
    "data = pd.read_table('datasets/electric_consumption/household_power_consumption.txt', sep=';', dtype=object)"
   ]
  },
  {
   "cell_type": "code",
   "execution_count": 114,
   "id": "96bc9cc3",
   "metadata": {},
   "outputs": [
    {
     "data": {
      "text/html": [
       "<div>\n",
       "<style scoped>\n",
       "    .dataframe tbody tr th:only-of-type {\n",
       "        vertical-align: middle;\n",
       "    }\n",
       "\n",
       "    .dataframe tbody tr th {\n",
       "        vertical-align: top;\n",
       "    }\n",
       "\n",
       "    .dataframe thead th {\n",
       "        text-align: right;\n",
       "    }\n",
       "</style>\n",
       "<table border=\"1\" class=\"dataframe\">\n",
       "  <thead>\n",
       "    <tr style=\"text-align: right;\">\n",
       "      <th></th>\n",
       "      <th>Date</th>\n",
       "      <th>Time</th>\n",
       "      <th>Global_active_power</th>\n",
       "      <th>Global_reactive_power</th>\n",
       "      <th>Voltage</th>\n",
       "      <th>Global_intensity</th>\n",
       "      <th>Sub_metering_1</th>\n",
       "      <th>Sub_metering_2</th>\n",
       "      <th>Sub_metering_3</th>\n",
       "    </tr>\n",
       "  </thead>\n",
       "  <tbody>\n",
       "    <tr>\n",
       "      <th>0</th>\n",
       "      <td>16/12/2006</td>\n",
       "      <td>17:24:00</td>\n",
       "      <td>4.216</td>\n",
       "      <td>0.418</td>\n",
       "      <td>234.840</td>\n",
       "      <td>18.400</td>\n",
       "      <td>0.000</td>\n",
       "      <td>1.000</td>\n",
       "      <td>17.000</td>\n",
       "    </tr>\n",
       "    <tr>\n",
       "      <th>1</th>\n",
       "      <td>16/12/2006</td>\n",
       "      <td>17:25:00</td>\n",
       "      <td>5.360</td>\n",
       "      <td>0.436</td>\n",
       "      <td>233.630</td>\n",
       "      <td>23.000</td>\n",
       "      <td>0.000</td>\n",
       "      <td>1.000</td>\n",
       "      <td>16.000</td>\n",
       "    </tr>\n",
       "    <tr>\n",
       "      <th>2</th>\n",
       "      <td>16/12/2006</td>\n",
       "      <td>17:26:00</td>\n",
       "      <td>5.374</td>\n",
       "      <td>0.498</td>\n",
       "      <td>233.290</td>\n",
       "      <td>23.000</td>\n",
       "      <td>0.000</td>\n",
       "      <td>2.000</td>\n",
       "      <td>17.000</td>\n",
       "    </tr>\n",
       "    <tr>\n",
       "      <th>3</th>\n",
       "      <td>16/12/2006</td>\n",
       "      <td>17:27:00</td>\n",
       "      <td>5.388</td>\n",
       "      <td>0.502</td>\n",
       "      <td>233.740</td>\n",
       "      <td>23.000</td>\n",
       "      <td>0.000</td>\n",
       "      <td>1.000</td>\n",
       "      <td>17.000</td>\n",
       "    </tr>\n",
       "    <tr>\n",
       "      <th>4</th>\n",
       "      <td>16/12/2006</td>\n",
       "      <td>17:28:00</td>\n",
       "      <td>3.666</td>\n",
       "      <td>0.528</td>\n",
       "      <td>235.680</td>\n",
       "      <td>15.800</td>\n",
       "      <td>0.000</td>\n",
       "      <td>1.000</td>\n",
       "      <td>17.000</td>\n",
       "    </tr>\n",
       "  </tbody>\n",
       "</table>\n",
       "</div>"
      ],
      "text/plain": [
       "         Date      Time Global_active_power Global_reactive_power  Voltage  \\\n",
       "0  16/12/2006  17:24:00               4.216                 0.418  234.840   \n",
       "1  16/12/2006  17:25:00               5.360                 0.436  233.630   \n",
       "2  16/12/2006  17:26:00               5.374                 0.498  233.290   \n",
       "3  16/12/2006  17:27:00               5.388                 0.502  233.740   \n",
       "4  16/12/2006  17:28:00               3.666                 0.528  235.680   \n",
       "\n",
       "  Global_intensity Sub_metering_1 Sub_metering_2 Sub_metering_3  \n",
       "0           18.400          0.000          1.000         17.000  \n",
       "1           23.000          0.000          1.000         16.000  \n",
       "2           23.000          0.000          2.000         17.000  \n",
       "3           23.000          0.000          1.000         17.000  \n",
       "4           15.800          0.000          1.000         17.000  "
      ]
     },
     "execution_count": 114,
     "metadata": {},
     "output_type": "execute_result"
    }
   ],
   "source": [
    "data.head()"
   ]
  },
  {
   "cell_type": "code",
   "execution_count": 36,
   "id": "a0c6da37",
   "metadata": {},
   "outputs": [
    {
     "data": {
      "text/plain": [
       "Date                     object\n",
       "Time                     object\n",
       "Global_active_power      object\n",
       "Global_reactive_power    object\n",
       "Voltage                  object\n",
       "Global_intensity         object\n",
       "Sub_metering_1           object\n",
       "Sub_metering_2           object\n",
       "Sub_metering_3           object\n",
       "dtype: object"
      ]
     },
     "execution_count": 36,
     "metadata": {},
     "output_type": "execute_result"
    }
   ],
   "source": [
    "data.dtypes"
   ]
  },
  {
   "cell_type": "code",
   "execution_count": 35,
   "id": "a751380a",
   "metadata": {},
   "outputs": [],
   "source": [
    "data = data.infer_objects()"
   ]
  },
  {
   "cell_type": "code",
   "execution_count": 37,
   "id": "589c7f39",
   "metadata": {},
   "outputs": [
    {
     "data": {
      "text/plain": [
       "Date                     object\n",
       "Time                     object\n",
       "Global_active_power      object\n",
       "Global_reactive_power    object\n",
       "Voltage                  object\n",
       "Global_intensity         object\n",
       "Sub_metering_1           object\n",
       "Sub_metering_2           object\n",
       "Sub_metering_3           object\n",
       "dtype: object"
      ]
     },
     "execution_count": 37,
     "metadata": {},
     "output_type": "execute_result"
    }
   ],
   "source": [
    "data.dtypes"
   ]
  },
  {
   "cell_type": "code",
   "execution_count": 38,
   "id": "ac128ee8",
   "metadata": {},
   "outputs": [],
   "source": [
    "data = data.convert_dtypes()"
   ]
  },
  {
   "cell_type": "code",
   "execution_count": 39,
   "id": "817d5224",
   "metadata": {},
   "outputs": [
    {
     "data": {
      "text/plain": [
       "Date                     string\n",
       "Time                     string\n",
       "Global_active_power      string\n",
       "Global_reactive_power    string\n",
       "Voltage                  string\n",
       "Global_intensity         string\n",
       "Sub_metering_1           string\n",
       "Sub_metering_2           string\n",
       "Sub_metering_3           string\n",
       "dtype: object"
      ]
     },
     "execution_count": 39,
     "metadata": {},
     "output_type": "execute_result"
    }
   ],
   "source": [
    "data.dtypes"
   ]
  },
  {
   "cell_type": "code",
   "execution_count": 99,
   "id": "1f053904",
   "metadata": {},
   "outputs": [],
   "source": [
    "data[\"Timestamp\"]= data[\"Date\"] + data[\"Time\"]"
   ]
  },
  {
   "cell_type": "code",
   "execution_count": 100,
   "id": "e849405e",
   "metadata": {},
   "outputs": [
    {
     "data": {
      "text/plain": [
       "Date                     object\n",
       "Time                     object\n",
       "Global_active_power      object\n",
       "Global_reactive_power    object\n",
       "Voltage                  object\n",
       "Global_intensity         object\n",
       "Sub_metering_1           object\n",
       "Sub_metering_2           object\n",
       "Sub_metering_3           object\n",
       "Timestamp                object\n",
       "dtype: object"
      ]
     },
     "execution_count": 100,
     "metadata": {},
     "output_type": "execute_result"
    }
   ],
   "source": [
    "data.dtypes"
   ]
  },
  {
   "cell_type": "code",
   "execution_count": 42,
   "id": "a99ebb22",
   "metadata": {},
   "outputs": [],
   "source": [
    "data = data.convert_dtypes()"
   ]
  },
  {
   "cell_type": "code",
   "execution_count": 43,
   "id": "77eb7943",
   "metadata": {},
   "outputs": [
    {
     "data": {
      "text/plain": [
       "Date                     string\n",
       "Time                     string\n",
       "Global_active_power      string\n",
       "Global_reactive_power    string\n",
       "Voltage                  string\n",
       "Global_intensity         string\n",
       "Sub_metering_1           string\n",
       "Sub_metering_2           string\n",
       "Sub_metering_3           string\n",
       "Timestamp                string\n",
       "dtype: object"
      ]
     },
     "execution_count": 43,
     "metadata": {},
     "output_type": "execute_result"
    }
   ],
   "source": [
    "data.dtypes"
   ]
  },
  {
   "cell_type": "code",
   "execution_count": 46,
   "id": "497fff29",
   "metadata": {},
   "outputs": [
    {
     "data": {
      "text/html": [
       "<div>\n",
       "<style scoped>\n",
       "    .dataframe tbody tr th:only-of-type {\n",
       "        vertical-align: middle;\n",
       "    }\n",
       "\n",
       "    .dataframe tbody tr th {\n",
       "        vertical-align: top;\n",
       "    }\n",
       "\n",
       "    .dataframe thead th {\n",
       "        text-align: right;\n",
       "    }\n",
       "</style>\n",
       "<table border=\"1\" class=\"dataframe\">\n",
       "  <thead>\n",
       "    <tr style=\"text-align: right;\">\n",
       "      <th></th>\n",
       "      <th>Date</th>\n",
       "      <th>Time</th>\n",
       "      <th>Global_active_power</th>\n",
       "      <th>Global_reactive_power</th>\n",
       "      <th>Voltage</th>\n",
       "      <th>Global_intensity</th>\n",
       "      <th>Sub_metering_1</th>\n",
       "      <th>Sub_metering_2</th>\n",
       "      <th>Sub_metering_3</th>\n",
       "    </tr>\n",
       "  </thead>\n",
       "  <tbody>\n",
       "    <tr>\n",
       "      <th>0</th>\n",
       "      <td>16/12/2006</td>\n",
       "      <td>17:24:00</td>\n",
       "      <td>4.216</td>\n",
       "      <td>0.418</td>\n",
       "      <td>234.840</td>\n",
       "      <td>18.400</td>\n",
       "      <td>0.000</td>\n",
       "      <td>1.000</td>\n",
       "      <td>17.000</td>\n",
       "    </tr>\n",
       "    <tr>\n",
       "      <th>1</th>\n",
       "      <td>16/12/2006</td>\n",
       "      <td>17:25:00</td>\n",
       "      <td>5.360</td>\n",
       "      <td>0.436</td>\n",
       "      <td>233.630</td>\n",
       "      <td>23.000</td>\n",
       "      <td>0.000</td>\n",
       "      <td>1.000</td>\n",
       "      <td>16.000</td>\n",
       "    </tr>\n",
       "    <tr>\n",
       "      <th>2</th>\n",
       "      <td>16/12/2006</td>\n",
       "      <td>17:26:00</td>\n",
       "      <td>5.374</td>\n",
       "      <td>0.498</td>\n",
       "      <td>233.290</td>\n",
       "      <td>23.000</td>\n",
       "      <td>0.000</td>\n",
       "      <td>2.000</td>\n",
       "      <td>17.000</td>\n",
       "    </tr>\n",
       "    <tr>\n",
       "      <th>3</th>\n",
       "      <td>16/12/2006</td>\n",
       "      <td>17:27:00</td>\n",
       "      <td>5.388</td>\n",
       "      <td>0.502</td>\n",
       "      <td>233.740</td>\n",
       "      <td>23.000</td>\n",
       "      <td>0.000</td>\n",
       "      <td>1.000</td>\n",
       "      <td>17.000</td>\n",
       "    </tr>\n",
       "    <tr>\n",
       "      <th>4</th>\n",
       "      <td>16/12/2006</td>\n",
       "      <td>17:28:00</td>\n",
       "      <td>3.666</td>\n",
       "      <td>0.528</td>\n",
       "      <td>235.680</td>\n",
       "      <td>15.800</td>\n",
       "      <td>0.000</td>\n",
       "      <td>1.000</td>\n",
       "      <td>17.000</td>\n",
       "    </tr>\n",
       "    <tr>\n",
       "      <th>...</th>\n",
       "      <td>...</td>\n",
       "      <td>...</td>\n",
       "      <td>...</td>\n",
       "      <td>...</td>\n",
       "      <td>...</td>\n",
       "      <td>...</td>\n",
       "      <td>...</td>\n",
       "      <td>...</td>\n",
       "      <td>...</td>\n",
       "    </tr>\n",
       "    <tr>\n",
       "      <th>2075254</th>\n",
       "      <td>26/11/2010</td>\n",
       "      <td>20:58:00</td>\n",
       "      <td>0.946</td>\n",
       "      <td>0.000</td>\n",
       "      <td>240.430</td>\n",
       "      <td>4.000</td>\n",
       "      <td>0.000</td>\n",
       "      <td>0.000</td>\n",
       "      <td>0.000</td>\n",
       "    </tr>\n",
       "    <tr>\n",
       "      <th>2075255</th>\n",
       "      <td>26/11/2010</td>\n",
       "      <td>20:59:00</td>\n",
       "      <td>0.944</td>\n",
       "      <td>0.000</td>\n",
       "      <td>240.000</td>\n",
       "      <td>4.000</td>\n",
       "      <td>0.000</td>\n",
       "      <td>0.000</td>\n",
       "      <td>0.000</td>\n",
       "    </tr>\n",
       "    <tr>\n",
       "      <th>2075256</th>\n",
       "      <td>26/11/2010</td>\n",
       "      <td>21:00:00</td>\n",
       "      <td>0.938</td>\n",
       "      <td>0.000</td>\n",
       "      <td>239.820</td>\n",
       "      <td>3.800</td>\n",
       "      <td>0.000</td>\n",
       "      <td>0.000</td>\n",
       "      <td>0.000</td>\n",
       "    </tr>\n",
       "    <tr>\n",
       "      <th>2075257</th>\n",
       "      <td>26/11/2010</td>\n",
       "      <td>21:01:00</td>\n",
       "      <td>0.934</td>\n",
       "      <td>0.000</td>\n",
       "      <td>239.700</td>\n",
       "      <td>3.800</td>\n",
       "      <td>0.000</td>\n",
       "      <td>0.000</td>\n",
       "      <td>0.000</td>\n",
       "    </tr>\n",
       "    <tr>\n",
       "      <th>2075258</th>\n",
       "      <td>26/11/2010</td>\n",
       "      <td>21:02:00</td>\n",
       "      <td>0.932</td>\n",
       "      <td>0.000</td>\n",
       "      <td>239.550</td>\n",
       "      <td>3.800</td>\n",
       "      <td>0.000</td>\n",
       "      <td>0.000</td>\n",
       "      <td>0.000</td>\n",
       "    </tr>\n",
       "  </tbody>\n",
       "</table>\n",
       "<p>2075259 rows × 9 columns</p>\n",
       "</div>"
      ],
      "text/plain": [
       "               Date      Time Global_active_power Global_reactive_power  \\\n",
       "0        16/12/2006  17:24:00               4.216                 0.418   \n",
       "1        16/12/2006  17:25:00               5.360                 0.436   \n",
       "2        16/12/2006  17:26:00               5.374                 0.498   \n",
       "3        16/12/2006  17:27:00               5.388                 0.502   \n",
       "4        16/12/2006  17:28:00               3.666                 0.528   \n",
       "...             ...       ...                 ...                   ...   \n",
       "2075254  26/11/2010  20:58:00               0.946                 0.000   \n",
       "2075255  26/11/2010  20:59:00               0.944                 0.000   \n",
       "2075256  26/11/2010  21:00:00               0.938                 0.000   \n",
       "2075257  26/11/2010  21:01:00               0.934                 0.000   \n",
       "2075258  26/11/2010  21:02:00               0.932                 0.000   \n",
       "\n",
       "         Voltage Global_intensity Sub_metering_1 Sub_metering_2 Sub_metering_3  \n",
       "0        234.840           18.400          0.000          1.000         17.000  \n",
       "1        233.630           23.000          0.000          1.000         16.000  \n",
       "2        233.290           23.000          0.000          2.000         17.000  \n",
       "3        233.740           23.000          0.000          1.000         17.000  \n",
       "4        235.680           15.800          0.000          1.000         17.000  \n",
       "...          ...              ...            ...            ...            ...  \n",
       "2075254  240.430            4.000          0.000          0.000          0.000  \n",
       "2075255  240.000            4.000          0.000          0.000          0.000  \n",
       "2075256  239.820            3.800          0.000          0.000          0.000  \n",
       "2075257  239.700            3.800          0.000          0.000          0.000  \n",
       "2075258  239.550            3.800          0.000          0.000          0.000  \n",
       "\n",
       "[2075259 rows x 9 columns]"
      ]
     },
     "execution_count": 46,
     "metadata": {},
     "output_type": "execute_result"
    }
   ],
   "source": [
    "data.drop(\"Timestamp\", axis=1)"
   ]
  },
  {
   "cell_type": "code",
   "execution_count": 48,
   "id": "8c548ff2",
   "metadata": {},
   "outputs": [
    {
     "data": {
      "text/html": [
       "<div>\n",
       "<style scoped>\n",
       "    .dataframe tbody tr th:only-of-type {\n",
       "        vertical-align: middle;\n",
       "    }\n",
       "\n",
       "    .dataframe tbody tr th {\n",
       "        vertical-align: top;\n",
       "    }\n",
       "\n",
       "    .dataframe thead th {\n",
       "        text-align: right;\n",
       "    }\n",
       "</style>\n",
       "<table border=\"1\" class=\"dataframe\">\n",
       "  <thead>\n",
       "    <tr style=\"text-align: right;\">\n",
       "      <th></th>\n",
       "      <th>Date</th>\n",
       "      <th>Time</th>\n",
       "      <th>Global_active_power</th>\n",
       "      <th>Global_reactive_power</th>\n",
       "      <th>Voltage</th>\n",
       "      <th>Global_intensity</th>\n",
       "      <th>Sub_metering_1</th>\n",
       "      <th>Sub_metering_2</th>\n",
       "      <th>Sub_metering_3</th>\n",
       "      <th>Timestamp</th>\n",
       "    </tr>\n",
       "  </thead>\n",
       "  <tbody>\n",
       "    <tr>\n",
       "      <th>0</th>\n",
       "      <td>16/12/2006</td>\n",
       "      <td>17:24:00</td>\n",
       "      <td>4.216</td>\n",
       "      <td>0.418</td>\n",
       "      <td>234.840</td>\n",
       "      <td>18.400</td>\n",
       "      <td>0.000</td>\n",
       "      <td>1.000</td>\n",
       "      <td>17.000</td>\n",
       "      <td>16/12/200617:24:00</td>\n",
       "    </tr>\n",
       "    <tr>\n",
       "      <th>1</th>\n",
       "      <td>16/12/2006</td>\n",
       "      <td>17:25:00</td>\n",
       "      <td>5.360</td>\n",
       "      <td>0.436</td>\n",
       "      <td>233.630</td>\n",
       "      <td>23.000</td>\n",
       "      <td>0.000</td>\n",
       "      <td>1.000</td>\n",
       "      <td>16.000</td>\n",
       "      <td>16/12/200617:25:00</td>\n",
       "    </tr>\n",
       "    <tr>\n",
       "      <th>2</th>\n",
       "      <td>16/12/2006</td>\n",
       "      <td>17:26:00</td>\n",
       "      <td>5.374</td>\n",
       "      <td>0.498</td>\n",
       "      <td>233.290</td>\n",
       "      <td>23.000</td>\n",
       "      <td>0.000</td>\n",
       "      <td>2.000</td>\n",
       "      <td>17.000</td>\n",
       "      <td>16/12/200617:26:00</td>\n",
       "    </tr>\n",
       "    <tr>\n",
       "      <th>3</th>\n",
       "      <td>16/12/2006</td>\n",
       "      <td>17:27:00</td>\n",
       "      <td>5.388</td>\n",
       "      <td>0.502</td>\n",
       "      <td>233.740</td>\n",
       "      <td>23.000</td>\n",
       "      <td>0.000</td>\n",
       "      <td>1.000</td>\n",
       "      <td>17.000</td>\n",
       "      <td>16/12/200617:27:00</td>\n",
       "    </tr>\n",
       "    <tr>\n",
       "      <th>4</th>\n",
       "      <td>16/12/2006</td>\n",
       "      <td>17:28:00</td>\n",
       "      <td>3.666</td>\n",
       "      <td>0.528</td>\n",
       "      <td>235.680</td>\n",
       "      <td>15.800</td>\n",
       "      <td>0.000</td>\n",
       "      <td>1.000</td>\n",
       "      <td>17.000</td>\n",
       "      <td>16/12/200617:28:00</td>\n",
       "    </tr>\n",
       "  </tbody>\n",
       "</table>\n",
       "</div>"
      ],
      "text/plain": [
       "         Date      Time Global_active_power Global_reactive_power  Voltage  \\\n",
       "0  16/12/2006  17:24:00               4.216                 0.418  234.840   \n",
       "1  16/12/2006  17:25:00               5.360                 0.436  233.630   \n",
       "2  16/12/2006  17:26:00               5.374                 0.498  233.290   \n",
       "3  16/12/2006  17:27:00               5.388                 0.502  233.740   \n",
       "4  16/12/2006  17:28:00               3.666                 0.528  235.680   \n",
       "\n",
       "  Global_intensity Sub_metering_1 Sub_metering_2 Sub_metering_3  \\\n",
       "0           18.400          0.000          1.000         17.000   \n",
       "1           23.000          0.000          1.000         16.000   \n",
       "2           23.000          0.000          2.000         17.000   \n",
       "3           23.000          0.000          1.000         17.000   \n",
       "4           15.800          0.000          1.000         17.000   \n",
       "\n",
       "            Timestamp  \n",
       "0  16/12/200617:24:00  \n",
       "1  16/12/200617:25:00  \n",
       "2  16/12/200617:26:00  \n",
       "3  16/12/200617:27:00  \n",
       "4  16/12/200617:28:00  "
      ]
     },
     "execution_count": 48,
     "metadata": {},
     "output_type": "execute_result"
    }
   ],
   "source": [
    "data.head()"
   ]
  },
  {
   "cell_type": "code",
   "execution_count": 49,
   "id": "6997bd66",
   "metadata": {},
   "outputs": [
    {
     "data": {
      "text/plain": [
       "0          16/12/2006\n",
       "1          16/12/2006\n",
       "2          16/12/2006\n",
       "3          16/12/2006\n",
       "4          16/12/2006\n",
       "              ...    \n",
       "2075254    26/11/2010\n",
       "2075255    26/11/2010\n",
       "2075256    26/11/2010\n",
       "2075257    26/11/2010\n",
       "2075258    26/11/2010\n",
       "Name: Date, Length: 2075259, dtype: string"
      ]
     },
     "execution_count": 49,
     "metadata": {},
     "output_type": "execute_result"
    }
   ],
   "source": [
    "data[\"Date\"]"
   ]
  },
  {
   "cell_type": "code",
   "execution_count": 115,
   "id": "93f334e4",
   "metadata": {},
   "outputs": [],
   "source": [
    "data[\"Timestamp\"] = data[\"Date\"] +' '+ data[\"Time\"]"
   ]
  },
  {
   "cell_type": "code",
   "execution_count": 116,
   "id": "003c7c1c",
   "metadata": {},
   "outputs": [],
   "source": [
    "data[\"Timestamp\"] = pd.to_datetime(data[\"Timestamp\"], format='%d/%m/%Y %H:%M:%S')"
   ]
  },
  {
   "cell_type": "code",
   "execution_count": 117,
   "id": "90601e09",
   "metadata": {},
   "outputs": [
    {
     "data": {
      "text/plain": [
       "Date                             object\n",
       "Time                             object\n",
       "Global_active_power              object\n",
       "Global_reactive_power            object\n",
       "Voltage                          object\n",
       "Global_intensity                 object\n",
       "Sub_metering_1                   object\n",
       "Sub_metering_2                   object\n",
       "Sub_metering_3                   object\n",
       "Timestamp                datetime64[ns]\n",
       "dtype: object"
      ]
     },
     "execution_count": 117,
     "metadata": {},
     "output_type": "execute_result"
    }
   ],
   "source": [
    "data.dtypes"
   ]
  },
  {
   "cell_type": "code",
   "execution_count": 118,
   "id": "aa8ff0e0",
   "metadata": {},
   "outputs": [],
   "source": [
    "data = data.drop(\"Date\", axis=1)"
   ]
  },
  {
   "cell_type": "code",
   "execution_count": 119,
   "id": "209555cb",
   "metadata": {},
   "outputs": [],
   "source": [
    "data = data.drop(\"Time\", axis=1)"
   ]
  },
  {
   "cell_type": "code",
   "execution_count": 120,
   "id": "363d2bfa",
   "metadata": {},
   "outputs": [
    {
     "data": {
      "text/html": [
       "<div>\n",
       "<style scoped>\n",
       "    .dataframe tbody tr th:only-of-type {\n",
       "        vertical-align: middle;\n",
       "    }\n",
       "\n",
       "    .dataframe tbody tr th {\n",
       "        vertical-align: top;\n",
       "    }\n",
       "\n",
       "    .dataframe thead th {\n",
       "        text-align: right;\n",
       "    }\n",
       "</style>\n",
       "<table border=\"1\" class=\"dataframe\">\n",
       "  <thead>\n",
       "    <tr style=\"text-align: right;\">\n",
       "      <th></th>\n",
       "      <th>Global_active_power</th>\n",
       "      <th>Global_reactive_power</th>\n",
       "      <th>Voltage</th>\n",
       "      <th>Global_intensity</th>\n",
       "      <th>Sub_metering_1</th>\n",
       "      <th>Sub_metering_2</th>\n",
       "      <th>Sub_metering_3</th>\n",
       "      <th>Timestamp</th>\n",
       "    </tr>\n",
       "  </thead>\n",
       "  <tbody>\n",
       "    <tr>\n",
       "      <th>0</th>\n",
       "      <td>4.216</td>\n",
       "      <td>0.418</td>\n",
       "      <td>234.840</td>\n",
       "      <td>18.400</td>\n",
       "      <td>0.000</td>\n",
       "      <td>1.000</td>\n",
       "      <td>17.000</td>\n",
       "      <td>2006-12-16 17:24:00</td>\n",
       "    </tr>\n",
       "    <tr>\n",
       "      <th>1</th>\n",
       "      <td>5.360</td>\n",
       "      <td>0.436</td>\n",
       "      <td>233.630</td>\n",
       "      <td>23.000</td>\n",
       "      <td>0.000</td>\n",
       "      <td>1.000</td>\n",
       "      <td>16.000</td>\n",
       "      <td>2006-12-16 17:25:00</td>\n",
       "    </tr>\n",
       "    <tr>\n",
       "      <th>2</th>\n",
       "      <td>5.374</td>\n",
       "      <td>0.498</td>\n",
       "      <td>233.290</td>\n",
       "      <td>23.000</td>\n",
       "      <td>0.000</td>\n",
       "      <td>2.000</td>\n",
       "      <td>17.000</td>\n",
       "      <td>2006-12-16 17:26:00</td>\n",
       "    </tr>\n",
       "    <tr>\n",
       "      <th>3</th>\n",
       "      <td>5.388</td>\n",
       "      <td>0.502</td>\n",
       "      <td>233.740</td>\n",
       "      <td>23.000</td>\n",
       "      <td>0.000</td>\n",
       "      <td>1.000</td>\n",
       "      <td>17.000</td>\n",
       "      <td>2006-12-16 17:27:00</td>\n",
       "    </tr>\n",
       "    <tr>\n",
       "      <th>4</th>\n",
       "      <td>3.666</td>\n",
       "      <td>0.528</td>\n",
       "      <td>235.680</td>\n",
       "      <td>15.800</td>\n",
       "      <td>0.000</td>\n",
       "      <td>1.000</td>\n",
       "      <td>17.000</td>\n",
       "      <td>2006-12-16 17:28:00</td>\n",
       "    </tr>\n",
       "  </tbody>\n",
       "</table>\n",
       "</div>"
      ],
      "text/plain": [
       "  Global_active_power Global_reactive_power  Voltage Global_intensity  \\\n",
       "0               4.216                 0.418  234.840           18.400   \n",
       "1               5.360                 0.436  233.630           23.000   \n",
       "2               5.374                 0.498  233.290           23.000   \n",
       "3               5.388                 0.502  233.740           23.000   \n",
       "4               3.666                 0.528  235.680           15.800   \n",
       "\n",
       "  Sub_metering_1 Sub_metering_2 Sub_metering_3           Timestamp  \n",
       "0          0.000          1.000         17.000 2006-12-16 17:24:00  \n",
       "1          0.000          1.000         16.000 2006-12-16 17:25:00  \n",
       "2          0.000          2.000         17.000 2006-12-16 17:26:00  \n",
       "3          0.000          1.000         17.000 2006-12-16 17:27:00  \n",
       "4          0.000          1.000         17.000 2006-12-16 17:28:00  "
      ]
     },
     "execution_count": 120,
     "metadata": {},
     "output_type": "execute_result"
    }
   ],
   "source": [
    "data.head()"
   ]
  },
  {
   "cell_type": "code",
   "execution_count": 123,
   "id": "c7ffc12f",
   "metadata": {},
   "outputs": [],
   "source": [
    "data[\"Voltage\"] = pd.to_numeric(data[\"Voltage\"])"
   ]
  },
  {
   "cell_type": "code",
   "execution_count": 149,
   "id": "bf2aa7d0",
   "metadata": {},
   "outputs": [
    {
     "data": {
      "text/plain": [
       "Global_active_power                      NaN\n",
       "Global_reactive_power                    NaN\n",
       "Voltage                                  NaN\n",
       "Global_intensity                         NaN\n",
       "Sub_metering_1                           NaN\n",
       "Sub_metering_2                           NaN\n",
       "Sub_metering_3                           NaN\n",
       "Timestamp                2006-12-21 11:23:00\n",
       "Name: 6839, dtype: object"
      ]
     },
     "execution_count": 149,
     "metadata": {},
     "output_type": "execute_result"
    }
   ],
   "source": [
    "data.iloc[6839]"
   ]
  },
  {
   "cell_type": "code",
   "execution_count": 121,
   "id": "2410c2cc",
   "metadata": {},
   "outputs": [],
   "source": [
    "data = data.replace('?', np.nan)"
   ]
  },
  {
   "cell_type": "code",
   "execution_count": 105,
   "id": "4732ea01",
   "metadata": {},
   "outputs": [
    {
     "data": {
      "text/html": [
       "<div>\n",
       "<style scoped>\n",
       "    .dataframe tbody tr th:only-of-type {\n",
       "        vertical-align: middle;\n",
       "    }\n",
       "\n",
       "    .dataframe tbody tr th {\n",
       "        vertical-align: top;\n",
       "    }\n",
       "\n",
       "    .dataframe thead th {\n",
       "        text-align: right;\n",
       "    }\n",
       "</style>\n",
       "<table border=\"1\" class=\"dataframe\">\n",
       "  <thead>\n",
       "    <tr style=\"text-align: right;\">\n",
       "      <th></th>\n",
       "      <th>Global_active_power</th>\n",
       "      <th>Global_reactive_power</th>\n",
       "      <th>Voltage</th>\n",
       "      <th>Global_intensity</th>\n",
       "      <th>Sub_metering_1</th>\n",
       "      <th>Sub_metering_2</th>\n",
       "      <th>Sub_metering_3</th>\n",
       "      <th>Timestamp</th>\n",
       "    </tr>\n",
       "  </thead>\n",
       "  <tbody>\n",
       "    <tr>\n",
       "      <th>0</th>\n",
       "      <td>4.216</td>\n",
       "      <td>0.418</td>\n",
       "      <td>234.840</td>\n",
       "      <td>18.400</td>\n",
       "      <td>0.000</td>\n",
       "      <td>1.000</td>\n",
       "      <td>17.000</td>\n",
       "      <td>16/12/200617:24:00</td>\n",
       "    </tr>\n",
       "    <tr>\n",
       "      <th>1</th>\n",
       "      <td>5.360</td>\n",
       "      <td>0.436</td>\n",
       "      <td>233.630</td>\n",
       "      <td>23.000</td>\n",
       "      <td>0.000</td>\n",
       "      <td>1.000</td>\n",
       "      <td>16.000</td>\n",
       "      <td>16/12/200617:25:00</td>\n",
       "    </tr>\n",
       "    <tr>\n",
       "      <th>2</th>\n",
       "      <td>5.374</td>\n",
       "      <td>0.498</td>\n",
       "      <td>233.290</td>\n",
       "      <td>23.000</td>\n",
       "      <td>0.000</td>\n",
       "      <td>2.000</td>\n",
       "      <td>17.000</td>\n",
       "      <td>16/12/200617:26:00</td>\n",
       "    </tr>\n",
       "    <tr>\n",
       "      <th>3</th>\n",
       "      <td>5.388</td>\n",
       "      <td>0.502</td>\n",
       "      <td>233.740</td>\n",
       "      <td>23.000</td>\n",
       "      <td>0.000</td>\n",
       "      <td>1.000</td>\n",
       "      <td>17.000</td>\n",
       "      <td>16/12/200617:27:00</td>\n",
       "    </tr>\n",
       "    <tr>\n",
       "      <th>4</th>\n",
       "      <td>3.666</td>\n",
       "      <td>0.528</td>\n",
       "      <td>235.680</td>\n",
       "      <td>15.800</td>\n",
       "      <td>0.000</td>\n",
       "      <td>1.000</td>\n",
       "      <td>17.000</td>\n",
       "      <td>16/12/200617:28:00</td>\n",
       "    </tr>\n",
       "    <tr>\n",
       "      <th>...</th>\n",
       "      <td>...</td>\n",
       "      <td>...</td>\n",
       "      <td>...</td>\n",
       "      <td>...</td>\n",
       "      <td>...</td>\n",
       "      <td>...</td>\n",
       "      <td>...</td>\n",
       "      <td>...</td>\n",
       "    </tr>\n",
       "    <tr>\n",
       "      <th>2075254</th>\n",
       "      <td>0.946</td>\n",
       "      <td>0.000</td>\n",
       "      <td>240.430</td>\n",
       "      <td>4.000</td>\n",
       "      <td>0.000</td>\n",
       "      <td>0.000</td>\n",
       "      <td>0.000</td>\n",
       "      <td>26/11/201020:58:00</td>\n",
       "    </tr>\n",
       "    <tr>\n",
       "      <th>2075255</th>\n",
       "      <td>0.944</td>\n",
       "      <td>0.000</td>\n",
       "      <td>240.000</td>\n",
       "      <td>4.000</td>\n",
       "      <td>0.000</td>\n",
       "      <td>0.000</td>\n",
       "      <td>0.000</td>\n",
       "      <td>26/11/201020:59:00</td>\n",
       "    </tr>\n",
       "    <tr>\n",
       "      <th>2075256</th>\n",
       "      <td>0.938</td>\n",
       "      <td>0.000</td>\n",
       "      <td>239.820</td>\n",
       "      <td>3.800</td>\n",
       "      <td>0.000</td>\n",
       "      <td>0.000</td>\n",
       "      <td>0.000</td>\n",
       "      <td>26/11/201021:00:00</td>\n",
       "    </tr>\n",
       "    <tr>\n",
       "      <th>2075257</th>\n",
       "      <td>0.934</td>\n",
       "      <td>0.000</td>\n",
       "      <td>239.700</td>\n",
       "      <td>3.800</td>\n",
       "      <td>0.000</td>\n",
       "      <td>0.000</td>\n",
       "      <td>0.000</td>\n",
       "      <td>26/11/201021:01:00</td>\n",
       "    </tr>\n",
       "    <tr>\n",
       "      <th>2075258</th>\n",
       "      <td>0.932</td>\n",
       "      <td>0.000</td>\n",
       "      <td>239.550</td>\n",
       "      <td>3.800</td>\n",
       "      <td>0.000</td>\n",
       "      <td>0.000</td>\n",
       "      <td>0.000</td>\n",
       "      <td>26/11/201021:02:00</td>\n",
       "    </tr>\n",
       "  </tbody>\n",
       "</table>\n",
       "<p>2075259 rows × 8 columns</p>\n",
       "</div>"
      ],
      "text/plain": [
       "        Global_active_power Global_reactive_power  Voltage Global_intensity  \\\n",
       "0                     4.216                 0.418  234.840           18.400   \n",
       "1                     5.360                 0.436  233.630           23.000   \n",
       "2                     5.374                 0.498  233.290           23.000   \n",
       "3                     5.388                 0.502  233.740           23.000   \n",
       "4                     3.666                 0.528  235.680           15.800   \n",
       "...                     ...                   ...      ...              ...   \n",
       "2075254               0.946                 0.000  240.430            4.000   \n",
       "2075255               0.944                 0.000  240.000            4.000   \n",
       "2075256               0.938                 0.000  239.820            3.800   \n",
       "2075257               0.934                 0.000  239.700            3.800   \n",
       "2075258               0.932                 0.000  239.550            3.800   \n",
       "\n",
       "        Sub_metering_1 Sub_metering_2 Sub_metering_3           Timestamp  \n",
       "0                0.000          1.000         17.000  16/12/200617:24:00  \n",
       "1                0.000          1.000         16.000  16/12/200617:25:00  \n",
       "2                0.000          2.000         17.000  16/12/200617:26:00  \n",
       "3                0.000          1.000         17.000  16/12/200617:27:00  \n",
       "4                0.000          1.000         17.000  16/12/200617:28:00  \n",
       "...                ...            ...            ...                 ...  \n",
       "2075254          0.000          0.000          0.000  26/11/201020:58:00  \n",
       "2075255          0.000          0.000          0.000  26/11/201020:59:00  \n",
       "2075256          0.000          0.000          0.000  26/11/201021:00:00  \n",
       "2075257          0.000          0.000          0.000  26/11/201021:01:00  \n",
       "2075258          0.000          0.000          0.000  26/11/201021:02:00  \n",
       "\n",
       "[2075259 rows x 8 columns]"
      ]
     },
     "execution_count": 105,
     "metadata": {},
     "output_type": "execute_result"
    }
   ],
   "source": [
    "data.convert_dtypes()"
   ]
  },
  {
   "cell_type": "code",
   "execution_count": 107,
   "id": "45f568e1",
   "metadata": {},
   "outputs": [
    {
     "data": {
      "text/html": [
       "<div>\n",
       "<style scoped>\n",
       "    .dataframe tbody tr th:only-of-type {\n",
       "        vertical-align: middle;\n",
       "    }\n",
       "\n",
       "    .dataframe tbody tr th {\n",
       "        vertical-align: top;\n",
       "    }\n",
       "\n",
       "    .dataframe thead th {\n",
       "        text-align: right;\n",
       "    }\n",
       "</style>\n",
       "<table border=\"1\" class=\"dataframe\">\n",
       "  <thead>\n",
       "    <tr style=\"text-align: right;\">\n",
       "      <th></th>\n",
       "      <th>Global_active_power</th>\n",
       "      <th>Global_reactive_power</th>\n",
       "      <th>Voltage</th>\n",
       "      <th>Global_intensity</th>\n",
       "      <th>Sub_metering_1</th>\n",
       "      <th>Sub_metering_2</th>\n",
       "      <th>Sub_metering_3</th>\n",
       "      <th>Timestamp</th>\n",
       "    </tr>\n",
       "  </thead>\n",
       "  <tbody>\n",
       "    <tr>\n",
       "      <th>0</th>\n",
       "      <td>4.216</td>\n",
       "      <td>0.418</td>\n",
       "      <td>234.840</td>\n",
       "      <td>18.400</td>\n",
       "      <td>0.000</td>\n",
       "      <td>1.000</td>\n",
       "      <td>17.000</td>\n",
       "      <td>16/12/200617:24:00</td>\n",
       "    </tr>\n",
       "    <tr>\n",
       "      <th>1</th>\n",
       "      <td>5.360</td>\n",
       "      <td>0.436</td>\n",
       "      <td>233.630</td>\n",
       "      <td>23.000</td>\n",
       "      <td>0.000</td>\n",
       "      <td>1.000</td>\n",
       "      <td>16.000</td>\n",
       "      <td>16/12/200617:25:00</td>\n",
       "    </tr>\n",
       "    <tr>\n",
       "      <th>2</th>\n",
       "      <td>5.374</td>\n",
       "      <td>0.498</td>\n",
       "      <td>233.290</td>\n",
       "      <td>23.000</td>\n",
       "      <td>0.000</td>\n",
       "      <td>2.000</td>\n",
       "      <td>17.000</td>\n",
       "      <td>16/12/200617:26:00</td>\n",
       "    </tr>\n",
       "    <tr>\n",
       "      <th>3</th>\n",
       "      <td>5.388</td>\n",
       "      <td>0.502</td>\n",
       "      <td>233.740</td>\n",
       "      <td>23.000</td>\n",
       "      <td>0.000</td>\n",
       "      <td>1.000</td>\n",
       "      <td>17.000</td>\n",
       "      <td>16/12/200617:27:00</td>\n",
       "    </tr>\n",
       "    <tr>\n",
       "      <th>4</th>\n",
       "      <td>3.666</td>\n",
       "      <td>0.528</td>\n",
       "      <td>235.680</td>\n",
       "      <td>15.800</td>\n",
       "      <td>0.000</td>\n",
       "      <td>1.000</td>\n",
       "      <td>17.000</td>\n",
       "      <td>16/12/200617:28:00</td>\n",
       "    </tr>\n",
       "  </tbody>\n",
       "</table>\n",
       "</div>"
      ],
      "text/plain": [
       "  Global_active_power Global_reactive_power  Voltage Global_intensity  \\\n",
       "0               4.216                 0.418  234.840           18.400   \n",
       "1               5.360                 0.436  233.630           23.000   \n",
       "2               5.374                 0.498  233.290           23.000   \n",
       "3               5.388                 0.502  233.740           23.000   \n",
       "4               3.666                 0.528  235.680           15.800   \n",
       "\n",
       "  Sub_metering_1 Sub_metering_2 Sub_metering_3           Timestamp  \n",
       "0          0.000          1.000         17.000  16/12/200617:24:00  \n",
       "1          0.000          1.000         16.000  16/12/200617:25:00  \n",
       "2          0.000          2.000         17.000  16/12/200617:26:00  \n",
       "3          0.000          1.000         17.000  16/12/200617:27:00  \n",
       "4          0.000          1.000         17.000  16/12/200617:28:00  "
      ]
     },
     "execution_count": 107,
     "metadata": {},
     "output_type": "execute_result"
    }
   ],
   "source": [
    "data.head()"
   ]
  },
  {
   "cell_type": "code",
   "execution_count": 124,
   "id": "94584586",
   "metadata": {},
   "outputs": [
    {
     "data": {
      "text/plain": [
       "Global_active_power              object\n",
       "Global_reactive_power            object\n",
       "Voltage                         float64\n",
       "Global_intensity                 object\n",
       "Sub_metering_1                   object\n",
       "Sub_metering_2                   object\n",
       "Sub_metering_3                   object\n",
       "Timestamp                datetime64[ns]\n",
       "dtype: object"
      ]
     },
     "execution_count": 124,
     "metadata": {},
     "output_type": "execute_result"
    }
   ],
   "source": [
    "data.dtypes"
   ]
  },
  {
   "cell_type": "code",
   "execution_count": 126,
   "id": "95510287",
   "metadata": {},
   "outputs": [],
   "source": [
    "data[\"Global_active_power\"] = pd.to_numeric(data[\"Global_active_power\"])"
   ]
  },
  {
   "cell_type": "code",
   "execution_count": 127,
   "id": "7f37328d",
   "metadata": {},
   "outputs": [],
   "source": [
    "data[\"Global_reactive_power\"] = pd.to_numeric(data[\"Global_reactive_power\"])"
   ]
  },
  {
   "cell_type": "code",
   "execution_count": 128,
   "id": "1c0107d6",
   "metadata": {},
   "outputs": [],
   "source": [
    "data[\"Global_intensity\"] = pd.to_numeric(data[\"Global_intensity\"]) "
   ]
  },
  {
   "cell_type": "code",
   "execution_count": 129,
   "id": "62dc48f0",
   "metadata": {},
   "outputs": [],
   "source": [
    "data[\"Sub_metering_1\"] = pd.to_numeric(data[\"Sub_metering_1\"]) "
   ]
  },
  {
   "cell_type": "code",
   "execution_count": 130,
   "id": "10e738aa",
   "metadata": {},
   "outputs": [],
   "source": [
    "data[\"Sub_metering_2\"] = pd.to_numeric(data[\"Sub_metering_2\"])"
   ]
  },
  {
   "cell_type": "code",
   "execution_count": 131,
   "id": "35644b9e",
   "metadata": {},
   "outputs": [],
   "source": [
    "data[\"Sub_metering_3\"] = pd.to_numeric(data[\"Sub_metering_3\"])"
   ]
  },
  {
   "cell_type": "code",
   "execution_count": 132,
   "id": "a143b764",
   "metadata": {},
   "outputs": [
    {
     "data": {
      "text/plain": [
       "Global_active_power             float64\n",
       "Global_reactive_power           float64\n",
       "Voltage                         float64\n",
       "Global_intensity                float64\n",
       "Sub_metering_1                  float64\n",
       "Sub_metering_2                  float64\n",
       "Sub_metering_3                  float64\n",
       "Timestamp                datetime64[ns]\n",
       "dtype: object"
      ]
     },
     "execution_count": 132,
     "metadata": {},
     "output_type": "execute_result"
    }
   ],
   "source": [
    "data.dtypes"
   ]
  },
  {
   "cell_type": "code",
   "execution_count": 133,
   "id": "8d3bbafa",
   "metadata": {},
   "outputs": [],
   "source": [
    "data.to_pickle(r'C:\\Users\\hari_\\ML_PATH\\datasets\\electric_consumption\\data_clean.pk1')"
   ]
  },
  {
   "cell_type": "code",
   "execution_count": 138,
   "id": "28aa082d",
   "metadata": {},
   "outputs": [
    {
     "name": "stdout",
     "output_type": "stream",
     "text": [
      "<class 'pandas.core.frame.DataFrame'>\n",
      "RangeIndex: 2075259 entries, 0 to 2075258\n",
      "Data columns (total 8 columns):\n",
      " #   Column                 Dtype         \n",
      "---  ------                 -----         \n",
      " 0   Global_active_power    float64       \n",
      " 1   Global_reactive_power  float64       \n",
      " 2   Voltage                float64       \n",
      " 3   Global_intensity       float64       \n",
      " 4   Sub_metering_1         float64       \n",
      " 5   Sub_metering_2         float64       \n",
      " 6   Sub_metering_3         float64       \n",
      " 7   Timestamp              datetime64[ns]\n",
      "dtypes: datetime64[ns](1), float64(7)\n",
      "memory usage: 126.7 MB\n"
     ]
    }
   ],
   "source": [
    "data.info()"
   ]
  },
  {
   "cell_type": "code",
   "execution_count": 139,
   "id": "0df4cfc9",
   "metadata": {},
   "outputs": [
    {
     "data": {
      "text/html": [
       "<div>\n",
       "<style scoped>\n",
       "    .dataframe tbody tr th:only-of-type {\n",
       "        vertical-align: middle;\n",
       "    }\n",
       "\n",
       "    .dataframe tbody tr th {\n",
       "        vertical-align: top;\n",
       "    }\n",
       "\n",
       "    .dataframe thead th {\n",
       "        text-align: right;\n",
       "    }\n",
       "</style>\n",
       "<table border=\"1\" class=\"dataframe\">\n",
       "  <thead>\n",
       "    <tr style=\"text-align: right;\">\n",
       "      <th></th>\n",
       "      <th>Global_active_power</th>\n",
       "      <th>Global_reactive_power</th>\n",
       "      <th>Voltage</th>\n",
       "      <th>Global_intensity</th>\n",
       "      <th>Sub_metering_1</th>\n",
       "      <th>Sub_metering_2</th>\n",
       "      <th>Sub_metering_3</th>\n",
       "      <th>Timestamp</th>\n",
       "    </tr>\n",
       "  </thead>\n",
       "  <tbody>\n",
       "    <tr>\n",
       "      <th>0</th>\n",
       "      <td>4.216</td>\n",
       "      <td>0.418</td>\n",
       "      <td>234.84</td>\n",
       "      <td>18.4</td>\n",
       "      <td>0.0</td>\n",
       "      <td>1.0</td>\n",
       "      <td>17.0</td>\n",
       "      <td>2006-12-16 17:24:00</td>\n",
       "    </tr>\n",
       "    <tr>\n",
       "      <th>1</th>\n",
       "      <td>5.360</td>\n",
       "      <td>0.436</td>\n",
       "      <td>233.63</td>\n",
       "      <td>23.0</td>\n",
       "      <td>0.0</td>\n",
       "      <td>1.0</td>\n",
       "      <td>16.0</td>\n",
       "      <td>2006-12-16 17:25:00</td>\n",
       "    </tr>\n",
       "    <tr>\n",
       "      <th>2</th>\n",
       "      <td>5.374</td>\n",
       "      <td>0.498</td>\n",
       "      <td>233.29</td>\n",
       "      <td>23.0</td>\n",
       "      <td>0.0</td>\n",
       "      <td>2.0</td>\n",
       "      <td>17.0</td>\n",
       "      <td>2006-12-16 17:26:00</td>\n",
       "    </tr>\n",
       "    <tr>\n",
       "      <th>3</th>\n",
       "      <td>5.388</td>\n",
       "      <td>0.502</td>\n",
       "      <td>233.74</td>\n",
       "      <td>23.0</td>\n",
       "      <td>0.0</td>\n",
       "      <td>1.0</td>\n",
       "      <td>17.0</td>\n",
       "      <td>2006-12-16 17:27:00</td>\n",
       "    </tr>\n",
       "    <tr>\n",
       "      <th>4</th>\n",
       "      <td>3.666</td>\n",
       "      <td>0.528</td>\n",
       "      <td>235.68</td>\n",
       "      <td>15.8</td>\n",
       "      <td>0.0</td>\n",
       "      <td>1.0</td>\n",
       "      <td>17.0</td>\n",
       "      <td>2006-12-16 17:28:00</td>\n",
       "    </tr>\n",
       "  </tbody>\n",
       "</table>\n",
       "</div>"
      ],
      "text/plain": [
       "   Global_active_power  Global_reactive_power  Voltage  Global_intensity  \\\n",
       "0                4.216                  0.418   234.84              18.4   \n",
       "1                5.360                  0.436   233.63              23.0   \n",
       "2                5.374                  0.498   233.29              23.0   \n",
       "3                5.388                  0.502   233.74              23.0   \n",
       "4                3.666                  0.528   235.68              15.8   \n",
       "\n",
       "   Sub_metering_1  Sub_metering_2  Sub_metering_3           Timestamp  \n",
       "0             0.0             1.0            17.0 2006-12-16 17:24:00  \n",
       "1             0.0             1.0            16.0 2006-12-16 17:25:00  \n",
       "2             0.0             2.0            17.0 2006-12-16 17:26:00  \n",
       "3             0.0             1.0            17.0 2006-12-16 17:27:00  \n",
       "4             0.0             1.0            17.0 2006-12-16 17:28:00  "
      ]
     },
     "execution_count": 139,
     "metadata": {},
     "output_type": "execute_result"
    }
   ],
   "source": [
    "data.head()"
   ]
  },
  {
   "cell_type": "code",
   "execution_count": 196,
   "id": "613484cf",
   "metadata": {},
   "outputs": [],
   "source": [
    "LOCAL_PATH = r'C:\\Users\\hari_\\ML_PATH\\datasets\\electric_consumption'"
   ]
  },
  {
   "cell_type": "code",
   "execution_count": 175,
   "id": "1e3eaa2f",
   "metadata": {},
   "outputs": [
    {
     "ename": "NameError",
     "evalue": "name 'read_pickle' is not defined",
     "output_type": "error",
     "traceback": [
      "\u001b[1;31m---------------------------------------------------------------------------\u001b[0m",
      "\u001b[1;31mNameError\u001b[0m                                 Traceback (most recent call last)",
      "\u001b[1;32m~\\AppData\\Local\\Temp/ipykernel_17024/1569157416.py\u001b[0m in \u001b[0;36m<module>\u001b[1;34m\u001b[0m\n\u001b[1;32m----> 1\u001b[1;33m \u001b[0mdata\u001b[0m \u001b[1;33m=\u001b[0m \u001b[0mread_pickle\u001b[0m\u001b[1;33m(\u001b[0m\u001b[0mLOCAL_PATH\u001b[0m\u001b[1;33m)\u001b[0m\u001b[1;33m\u001b[0m\u001b[1;33m\u001b[0m\u001b[0m\n\u001b[0m",
      "\u001b[1;31mNameError\u001b[0m: name 'read_pickle' is not defined"
     ]
    }
   ],
   "source": [
    "data = read_pickle(LOCAL_PATH)"
   ]
  },
  {
   "cell_type": "code",
   "execution_count": 204,
   "id": "6114a746",
   "metadata": {},
   "outputs": [
    {
     "data": {
      "text/plain": [
       "Global_active_power     NaN\n",
       "Global_reactive_power   NaN\n",
       "Voltage                 NaN\n",
       "Global_intensity        NaN\n",
       "Sub_metering_1          NaN\n",
       "Sub_metering_2          NaN\n",
       "Sub_metering_3          NaN\n",
       "Name: 2006-12-21 11:23:00, dtype: float64"
      ]
     },
     "execution_count": 204,
     "metadata": {},
     "output_type": "execute_result"
    }
   ],
   "source": [
    "data.iloc[6839]"
   ]
  },
  {
   "cell_type": "code",
   "execution_count": 170,
   "id": "055f68e2",
   "metadata": {},
   "outputs": [],
   "source": [
    "data = data[\"Voltage\"].interpolate(method='linear')"
   ]
  },
  {
   "cell_type": "code",
   "execution_count": 180,
   "id": "140ee5c4",
   "metadata": {},
   "outputs": [],
   "source": [
    "data = pd.read_pickle(LOCAL_PATH)"
   ]
  },
  {
   "cell_type": "code",
   "execution_count": 227,
   "id": "12eb04ff",
   "metadata": {},
   "outputs": [],
   "source": [
    "every_column = (\"Global_active_power\", \"Global_reactive_power\", \"Voltage\", \"Global_intensity\", \"Sub_metering_1\", \"Sub_metering_2\", \"Sub_metering_3\")"
   ]
  },
  {
   "cell_type": "code",
   "execution_count": 186,
   "id": "eea09337",
   "metadata": {},
   "outputs": [
    {
     "data": {
      "text/plain": [
       "Timestamp('2006-12-16 17:24:00')"
      ]
     },
     "execution_count": 186,
     "metadata": {},
     "output_type": "execute_result"
    }
   ],
   "source": [
    "data[\"Timestamp\"].min()"
   ]
  },
  {
   "cell_type": "code",
   "execution_count": 187,
   "id": "df4fba2f",
   "metadata": {},
   "outputs": [
    {
     "data": {
      "text/plain": [
       "Timestamp('2010-11-26 21:02:00')"
      ]
     },
     "execution_count": 187,
     "metadata": {},
     "output_type": "execute_result"
    }
   ],
   "source": [
    "data[\"Timestamp\"].max()"
   ]
  },
  {
   "cell_type": "code",
   "execution_count": 193,
   "id": "884d5063",
   "metadata": {},
   "outputs": [],
   "source": [
    "data2 = data"
   ]
  },
  {
   "cell_type": "code",
   "execution_count": 189,
   "id": "3df3a12f",
   "metadata": {},
   "outputs": [],
   "source": [
    "data = data.set_index(pd.DatetimeIndex(data[\"Timestamp\"]))"
   ]
  },
  {
   "cell_type": "code",
   "execution_count": 200,
   "id": "f84e9019",
   "metadata": {},
   "outputs": [
    {
     "data": {
      "text/html": [
       "<div>\n",
       "<style scoped>\n",
       "    .dataframe tbody tr th:only-of-type {\n",
       "        vertical-align: middle;\n",
       "    }\n",
       "\n",
       "    .dataframe tbody tr th {\n",
       "        vertical-align: top;\n",
       "    }\n",
       "\n",
       "    .dataframe thead th {\n",
       "        text-align: right;\n",
       "    }\n",
       "</style>\n",
       "<table border=\"1\" class=\"dataframe\">\n",
       "  <thead>\n",
       "    <tr style=\"text-align: right;\">\n",
       "      <th></th>\n",
       "      <th>Global_active_power</th>\n",
       "      <th>Global_reactive_power</th>\n",
       "      <th>Voltage</th>\n",
       "      <th>Global_intensity</th>\n",
       "      <th>Sub_metering_1</th>\n",
       "      <th>Sub_metering_2</th>\n",
       "      <th>Sub_metering_3</th>\n",
       "    </tr>\n",
       "    <tr>\n",
       "      <th>Timestamp</th>\n",
       "      <th></th>\n",
       "      <th></th>\n",
       "      <th></th>\n",
       "      <th></th>\n",
       "      <th></th>\n",
       "      <th></th>\n",
       "      <th></th>\n",
       "    </tr>\n",
       "  </thead>\n",
       "  <tbody>\n",
       "    <tr>\n",
       "      <th>2006-12-16 17:24:00</th>\n",
       "      <td>4.216</td>\n",
       "      <td>0.418</td>\n",
       "      <td>234.84</td>\n",
       "      <td>18.4</td>\n",
       "      <td>0.0</td>\n",
       "      <td>1.0</td>\n",
       "      <td>17.0</td>\n",
       "    </tr>\n",
       "    <tr>\n",
       "      <th>2006-12-16 17:25:00</th>\n",
       "      <td>5.360</td>\n",
       "      <td>0.436</td>\n",
       "      <td>233.63</td>\n",
       "      <td>23.0</td>\n",
       "      <td>0.0</td>\n",
       "      <td>1.0</td>\n",
       "      <td>16.0</td>\n",
       "    </tr>\n",
       "    <tr>\n",
       "      <th>2006-12-16 17:26:00</th>\n",
       "      <td>5.374</td>\n",
       "      <td>0.498</td>\n",
       "      <td>233.29</td>\n",
       "      <td>23.0</td>\n",
       "      <td>0.0</td>\n",
       "      <td>2.0</td>\n",
       "      <td>17.0</td>\n",
       "    </tr>\n",
       "    <tr>\n",
       "      <th>2006-12-16 17:27:00</th>\n",
       "      <td>5.388</td>\n",
       "      <td>0.502</td>\n",
       "      <td>233.74</td>\n",
       "      <td>23.0</td>\n",
       "      <td>0.0</td>\n",
       "      <td>1.0</td>\n",
       "      <td>17.0</td>\n",
       "    </tr>\n",
       "    <tr>\n",
       "      <th>2006-12-16 17:28:00</th>\n",
       "      <td>3.666</td>\n",
       "      <td>0.528</td>\n",
       "      <td>235.68</td>\n",
       "      <td>15.8</td>\n",
       "      <td>0.0</td>\n",
       "      <td>1.0</td>\n",
       "      <td>17.0</td>\n",
       "    </tr>\n",
       "  </tbody>\n",
       "</table>\n",
       "</div>"
      ],
      "text/plain": [
       "                     Global_active_power  Global_reactive_power  Voltage  \\\n",
       "Timestamp                                                                  \n",
       "2006-12-16 17:24:00                4.216                  0.418   234.84   \n",
       "2006-12-16 17:25:00                5.360                  0.436   233.63   \n",
       "2006-12-16 17:26:00                5.374                  0.498   233.29   \n",
       "2006-12-16 17:27:00                5.388                  0.502   233.74   \n",
       "2006-12-16 17:28:00                3.666                  0.528   235.68   \n",
       "\n",
       "                     Global_intensity  Sub_metering_1  Sub_metering_2  \\\n",
       "Timestamp                                                               \n",
       "2006-12-16 17:24:00              18.4             0.0             1.0   \n",
       "2006-12-16 17:25:00              23.0             0.0             1.0   \n",
       "2006-12-16 17:26:00              23.0             0.0             2.0   \n",
       "2006-12-16 17:27:00              23.0             0.0             1.0   \n",
       "2006-12-16 17:28:00              15.8             0.0             1.0   \n",
       "\n",
       "                     Sub_metering_3  \n",
       "Timestamp                            \n",
       "2006-12-16 17:24:00            17.0  \n",
       "2006-12-16 17:25:00            16.0  \n",
       "2006-12-16 17:26:00            17.0  \n",
       "2006-12-16 17:27:00            17.0  \n",
       "2006-12-16 17:28:00            17.0  "
      ]
     },
     "execution_count": 200,
     "metadata": {},
     "output_type": "execute_result"
    }
   ],
   "source": [
    "data.head()"
   ]
  },
  {
   "cell_type": "code",
   "execution_count": 199,
   "id": "5f0e26cc",
   "metadata": {},
   "outputs": [],
   "source": [
    "data = data.drop(\"Timestamp\", axis=1)"
   ]
  },
  {
   "cell_type": "code",
   "execution_count": 202,
   "id": "982e88cf",
   "metadata": {},
   "outputs": [],
   "source": [
    "data.to_pickle((LOCAL_PATH+'\\data_indexed.pk1'))"
   ]
  },
  {
   "cell_type": "code",
   "execution_count": 203,
   "id": "08259ff9",
   "metadata": {},
   "outputs": [
    {
     "data": {
      "text/html": [
       "<div>\n",
       "<style scoped>\n",
       "    .dataframe tbody tr th:only-of-type {\n",
       "        vertical-align: middle;\n",
       "    }\n",
       "\n",
       "    .dataframe tbody tr th {\n",
       "        vertical-align: top;\n",
       "    }\n",
       "\n",
       "    .dataframe thead th {\n",
       "        text-align: right;\n",
       "    }\n",
       "</style>\n",
       "<table border=\"1\" class=\"dataframe\">\n",
       "  <thead>\n",
       "    <tr style=\"text-align: right;\">\n",
       "      <th></th>\n",
       "      <th>Global_active_power</th>\n",
       "      <th>Global_reactive_power</th>\n",
       "      <th>Voltage</th>\n",
       "      <th>Global_intensity</th>\n",
       "      <th>Sub_metering_1</th>\n",
       "      <th>Sub_metering_2</th>\n",
       "      <th>Sub_metering_3</th>\n",
       "    </tr>\n",
       "    <tr>\n",
       "      <th>Timestamp</th>\n",
       "      <th></th>\n",
       "      <th></th>\n",
       "      <th></th>\n",
       "      <th></th>\n",
       "      <th></th>\n",
       "      <th></th>\n",
       "      <th></th>\n",
       "    </tr>\n",
       "  </thead>\n",
       "  <tbody>\n",
       "    <tr>\n",
       "      <th>2006-12-16 17:24:00</th>\n",
       "      <td>4.216</td>\n",
       "      <td>0.418</td>\n",
       "      <td>234.84</td>\n",
       "      <td>18.4</td>\n",
       "      <td>0.0</td>\n",
       "      <td>1.0</td>\n",
       "      <td>17.0</td>\n",
       "    </tr>\n",
       "    <tr>\n",
       "      <th>2006-12-16 17:25:00</th>\n",
       "      <td>5.360</td>\n",
       "      <td>0.436</td>\n",
       "      <td>233.63</td>\n",
       "      <td>23.0</td>\n",
       "      <td>0.0</td>\n",
       "      <td>1.0</td>\n",
       "      <td>16.0</td>\n",
       "    </tr>\n",
       "    <tr>\n",
       "      <th>2006-12-16 17:26:00</th>\n",
       "      <td>5.374</td>\n",
       "      <td>0.498</td>\n",
       "      <td>233.29</td>\n",
       "      <td>23.0</td>\n",
       "      <td>0.0</td>\n",
       "      <td>2.0</td>\n",
       "      <td>17.0</td>\n",
       "    </tr>\n",
       "    <tr>\n",
       "      <th>2006-12-16 17:27:00</th>\n",
       "      <td>5.388</td>\n",
       "      <td>0.502</td>\n",
       "      <td>233.74</td>\n",
       "      <td>23.0</td>\n",
       "      <td>0.0</td>\n",
       "      <td>1.0</td>\n",
       "      <td>17.0</td>\n",
       "    </tr>\n",
       "    <tr>\n",
       "      <th>2006-12-16 17:28:00</th>\n",
       "      <td>3.666</td>\n",
       "      <td>0.528</td>\n",
       "      <td>235.68</td>\n",
       "      <td>15.8</td>\n",
       "      <td>0.0</td>\n",
       "      <td>1.0</td>\n",
       "      <td>17.0</td>\n",
       "    </tr>\n",
       "  </tbody>\n",
       "</table>\n",
       "</div>"
      ],
      "text/plain": [
       "                     Global_active_power  Global_reactive_power  Voltage  \\\n",
       "Timestamp                                                                  \n",
       "2006-12-16 17:24:00                4.216                  0.418   234.84   \n",
       "2006-12-16 17:25:00                5.360                  0.436   233.63   \n",
       "2006-12-16 17:26:00                5.374                  0.498   233.29   \n",
       "2006-12-16 17:27:00                5.388                  0.502   233.74   \n",
       "2006-12-16 17:28:00                3.666                  0.528   235.68   \n",
       "\n",
       "                     Global_intensity  Sub_metering_1  Sub_metering_2  \\\n",
       "Timestamp                                                               \n",
       "2006-12-16 17:24:00              18.4             0.0             1.0   \n",
       "2006-12-16 17:25:00              23.0             0.0             1.0   \n",
       "2006-12-16 17:26:00              23.0             0.0             2.0   \n",
       "2006-12-16 17:27:00              23.0             0.0             1.0   \n",
       "2006-12-16 17:28:00              15.8             0.0             1.0   \n",
       "\n",
       "                     Sub_metering_3  \n",
       "Timestamp                            \n",
       "2006-12-16 17:24:00            17.0  \n",
       "2006-12-16 17:25:00            16.0  \n",
       "2006-12-16 17:26:00            17.0  \n",
       "2006-12-16 17:27:00            17.0  \n",
       "2006-12-16 17:28:00            17.0  "
      ]
     },
     "execution_count": 203,
     "metadata": {},
     "output_type": "execute_result"
    }
   ],
   "source": [
    "data.head()"
   ]
  },
  {
   "cell_type": "code",
   "execution_count": 216,
   "id": "050b2791",
   "metadata": {},
   "outputs": [],
   "source": [
    "data = ''"
   ]
  },
  {
   "cell_type": "code",
   "execution_count": 217,
   "id": "a10ae2df",
   "metadata": {},
   "outputs": [],
   "source": [
    "data = pd.read_pickle((LOCAL_PATH+'\\data_indexed.pk1'))"
   ]
  },
  {
   "cell_type": "code",
   "execution_count": 219,
   "id": "132a6195",
   "metadata": {},
   "outputs": [
    {
     "data": {
      "text/plain": [
       "Global_active_power     NaN\n",
       "Global_reactive_power   NaN\n",
       "Voltage                 NaN\n",
       "Global_intensity        NaN\n",
       "Sub_metering_1          NaN\n",
       "Sub_metering_2          NaN\n",
       "Sub_metering_3          NaN\n",
       "Name: 2006-12-21 11:23:00, dtype: float64"
      ]
     },
     "execution_count": 219,
     "metadata": {},
     "output_type": "execute_result"
    }
   ],
   "source": [
    "data.iloc[6839]"
   ]
  },
  {
   "cell_type": "code",
   "execution_count": 221,
   "id": "eb445a1b",
   "metadata": {},
   "outputs": [],
   "source": [
    "with open((LOCAL_PATH+'\\data_description.txt'), 'r') as file:\n",
    "    data_description = file.read()"
   ]
  },
  {
   "cell_type": "code",
   "execution_count": 223,
   "id": "4cb8e360",
   "metadata": {},
   "outputs": [
    {
     "name": "stdout",
     "output_type": "stream",
     "text": [
      "Data Set Information:\n",
      "\n",
      "This archive contains 2075259 measurements gathered between December 2006 and November 2010 (47 months).\n",
      "Notes:\n",
      "1.(globalactivepower*1000/60 - submetering1 - submetering2 - submetering3) represents the active energy consumed every minute (in watt hour) in the household by electrical equipment not measured in sub-meterings 1, 2 and 3.\n",
      "\n",
      "2.The dataset contains some missing values in the measurements (nearly 1,25% of the rows). All calendar timestamps are present in the dataset but for some timestamps, the measurement values are missing: a missing value is represented by the absence of value between two consecutive semi-colon attribute separators. For instance, the dataset shows missing values on April 28, 2007.\n",
      "\n",
      "Attribute Information:\n",
      "1.date: Date in format dd/mm/yyyy\n",
      "\n",
      "2.time: time in format hh:mm:ss\n",
      "\n",
      "3.globalactivepower: household global minute-averaged active power (in kilowatt)\n",
      "\n",
      "4.globalreactivepower: household global minute-averaged reactive power (in kilowatt)\n",
      "\n",
      "5.voltage: minute-averaged voltage (in volt)\n",
      "\n",
      "6.global_intensity: household global minute-averaged current intensity (in ampere)\n",
      "\n",
      "7.submetering1: energy sub-metering No. 1 (in watt-hour of active energy). It corresponds to the kitchen, containing mainly a dishwasher, an oven and a microwave (hot plates are not electric but gas powered).\n",
      "\n",
      "8.submetering2: energy sub-metering No. 2 (in watt-hour of active energy). It corresponds to the laundry room, containing a washing-machine, a tumble-drier, a refrigerator and a light.\n",
      "\n",
      "9.submetering3: energy sub-metering No. 3 (in watt-hour of active energy). It corresponds to an electric water-heater and an air-conditioner.\n"
     ]
    }
   ],
   "source": [
    "print(data_description)"
   ]
  },
  {
   "cell_type": "code",
   "execution_count": 224,
   "id": "0fc0acc5",
   "metadata": {},
   "outputs": [
    {
     "data": {
      "text/plain": [
       "Global_active_power      float64\n",
       "Global_reactive_power    float64\n",
       "Voltage                  float64\n",
       "Global_intensity         float64\n",
       "Sub_metering_1           float64\n",
       "Sub_metering_2           float64\n",
       "Sub_metering_3           float64\n",
       "dtype: object"
      ]
     },
     "execution_count": 224,
     "metadata": {},
     "output_type": "execute_result"
    }
   ],
   "source": [
    "data.dtypes"
   ]
  },
  {
   "cell_type": "code",
   "execution_count": 226,
   "id": "1026220a",
   "metadata": {},
   "outputs": [
    {
     "name": "stdout",
     "output_type": "stream",
     "text": [
      "<class 'pandas.core.frame.DataFrame'>\n",
      "DatetimeIndex: 2075259 entries, 2006-12-16 17:24:00 to 2010-11-26 21:02:00\n",
      "Data columns (total 7 columns):\n",
      " #   Column                 Dtype  \n",
      "---  ------                 -----  \n",
      " 0   Global_active_power    float64\n",
      " 1   Global_reactive_power  float64\n",
      " 2   Voltage                float64\n",
      " 3   Global_intensity       float64\n",
      " 4   Sub_metering_1         float64\n",
      " 5   Sub_metering_2         float64\n",
      " 6   Sub_metering_3         float64\n",
      "dtypes: float64(7)\n",
      "memory usage: 126.7 MB\n"
     ]
    }
   ],
   "source": [
    "data.info()"
   ]
  },
  {
   "cell_type": "code",
   "execution_count": 232,
   "id": "28d5906f",
   "metadata": {},
   "outputs": [
    {
     "data": {
      "text/plain": [
       "'\\ndef iterate_columns():\\n    for columns in every_column:\\n        # Do Something\\n'"
      ]
     },
     "execution_count": 232,
     "metadata": {},
     "output_type": "execute_result"
    }
   ],
   "source": [
    "\"\"\"\n",
    "def iterate_columns():\n",
    "    for columns in every_column:\n",
    "        # Do Something\n",
    "\"\"\"     "
   ]
  },
  {
   "cell_type": "code",
   "execution_count": null,
   "id": "94e6e575",
   "metadata": {},
   "outputs": [],
   "source": [
    "pd.plotting.andrews_curves(data, \"Voltage\")"
   ]
  },
  {
   "cell_type": "code",
   "execution_count": 237,
   "id": "db1f93eb",
   "metadata": {},
   "outputs": [
    {
     "data": {
      "text/plain": [
       "Global_active_power        0.244667\n",
       "Global_reactive_power      0.000000\n",
       "Voltage                  242.106667\n",
       "Global_intensity           1.000000\n",
       "Sub_metering_1             0.000000\n",
       "Sub_metering_2             0.000000\n",
       "Sub_metering_3             0.000000\n",
       "Name: 2006-12-21 11:23:00, dtype: float64"
      ]
     },
     "execution_count": 237,
     "metadata": {},
     "output_type": "execute_result"
    }
   ],
   "source": [
    "data.iloc[6839]"
   ]
  },
  {
   "cell_type": "code",
   "execution_count": 236,
   "id": "c0e44ce1",
   "metadata": {},
   "outputs": [],
   "source": [
    "data = data.interpolate(method='linear')"
   ]
  },
  {
   "cell_type": "code",
   "execution_count": 264,
   "id": "3d3a195d",
   "metadata": {},
   "outputs": [],
   "source": [
    "%matplotlib inline"
   ]
  },
  {
   "cell_type": "code",
   "execution_count": 259,
   "id": "536d3cb7",
   "metadata": {},
   "outputs": [],
   "source": [
    "data3 = data.loc['2006-01-01 01:00:00':'2007-01-01 12:00:00']"
   ]
  },
  {
   "cell_type": "code",
   "execution_count": 260,
   "id": "e384595f",
   "metadata": {},
   "outputs": [
    {
     "data": {
      "text/html": [
       "<div>\n",
       "<style scoped>\n",
       "    .dataframe tbody tr th:only-of-type {\n",
       "        vertical-align: middle;\n",
       "    }\n",
       "\n",
       "    .dataframe tbody tr th {\n",
       "        vertical-align: top;\n",
       "    }\n",
       "\n",
       "    .dataframe thead th {\n",
       "        text-align: right;\n",
       "    }\n",
       "</style>\n",
       "<table border=\"1\" class=\"dataframe\">\n",
       "  <thead>\n",
       "    <tr style=\"text-align: right;\">\n",
       "      <th></th>\n",
       "      <th>Global_active_power</th>\n",
       "      <th>Global_reactive_power</th>\n",
       "      <th>Voltage</th>\n",
       "      <th>Global_intensity</th>\n",
       "      <th>Sub_metering_1</th>\n",
       "      <th>Sub_metering_2</th>\n",
       "      <th>Sub_metering_3</th>\n",
       "    </tr>\n",
       "    <tr>\n",
       "      <th>Timestamp</th>\n",
       "      <th></th>\n",
       "      <th></th>\n",
       "      <th></th>\n",
       "      <th></th>\n",
       "      <th></th>\n",
       "      <th></th>\n",
       "      <th></th>\n",
       "    </tr>\n",
       "  </thead>\n",
       "  <tbody>\n",
       "    <tr>\n",
       "      <th>2006-12-16 17:24:00</th>\n",
       "      <td>4.216</td>\n",
       "      <td>0.418</td>\n",
       "      <td>234.84</td>\n",
       "      <td>18.4</td>\n",
       "      <td>0.0</td>\n",
       "      <td>1.0</td>\n",
       "      <td>17.0</td>\n",
       "    </tr>\n",
       "    <tr>\n",
       "      <th>2006-12-16 17:25:00</th>\n",
       "      <td>5.360</td>\n",
       "      <td>0.436</td>\n",
       "      <td>233.63</td>\n",
       "      <td>23.0</td>\n",
       "      <td>0.0</td>\n",
       "      <td>1.0</td>\n",
       "      <td>16.0</td>\n",
       "    </tr>\n",
       "    <tr>\n",
       "      <th>2006-12-16 17:26:00</th>\n",
       "      <td>5.374</td>\n",
       "      <td>0.498</td>\n",
       "      <td>233.29</td>\n",
       "      <td>23.0</td>\n",
       "      <td>0.0</td>\n",
       "      <td>2.0</td>\n",
       "      <td>17.0</td>\n",
       "    </tr>\n",
       "    <tr>\n",
       "      <th>2006-12-16 17:27:00</th>\n",
       "      <td>5.388</td>\n",
       "      <td>0.502</td>\n",
       "      <td>233.74</td>\n",
       "      <td>23.0</td>\n",
       "      <td>0.0</td>\n",
       "      <td>1.0</td>\n",
       "      <td>17.0</td>\n",
       "    </tr>\n",
       "    <tr>\n",
       "      <th>2006-12-16 17:28:00</th>\n",
       "      <td>3.666</td>\n",
       "      <td>0.528</td>\n",
       "      <td>235.68</td>\n",
       "      <td>15.8</td>\n",
       "      <td>0.0</td>\n",
       "      <td>1.0</td>\n",
       "      <td>17.0</td>\n",
       "    </tr>\n",
       "    <tr>\n",
       "      <th>...</th>\n",
       "      <td>...</td>\n",
       "      <td>...</td>\n",
       "      <td>...</td>\n",
       "      <td>...</td>\n",
       "      <td>...</td>\n",
       "      <td>...</td>\n",
       "      <td>...</td>\n",
       "    </tr>\n",
       "    <tr>\n",
       "      <th>2007-01-01 11:56:00</th>\n",
       "      <td>2.536</td>\n",
       "      <td>0.000</td>\n",
       "      <td>238.26</td>\n",
       "      <td>10.6</td>\n",
       "      <td>0.0</td>\n",
       "      <td>0.0</td>\n",
       "      <td>0.0</td>\n",
       "    </tr>\n",
       "    <tr>\n",
       "      <th>2007-01-01 11:57:00</th>\n",
       "      <td>2.532</td>\n",
       "      <td>0.000</td>\n",
       "      <td>237.95</td>\n",
       "      <td>10.6</td>\n",
       "      <td>0.0</td>\n",
       "      <td>0.0</td>\n",
       "      <td>0.0</td>\n",
       "    </tr>\n",
       "    <tr>\n",
       "      <th>2007-01-01 11:58:00</th>\n",
       "      <td>2.530</td>\n",
       "      <td>0.000</td>\n",
       "      <td>237.85</td>\n",
       "      <td>10.6</td>\n",
       "      <td>0.0</td>\n",
       "      <td>0.0</td>\n",
       "      <td>0.0</td>\n",
       "    </tr>\n",
       "    <tr>\n",
       "      <th>2007-01-01 11:59:00</th>\n",
       "      <td>2.516</td>\n",
       "      <td>0.000</td>\n",
       "      <td>237.18</td>\n",
       "      <td>10.6</td>\n",
       "      <td>0.0</td>\n",
       "      <td>0.0</td>\n",
       "      <td>0.0</td>\n",
       "    </tr>\n",
       "    <tr>\n",
       "      <th>2007-01-01 12:00:00</th>\n",
       "      <td>2.478</td>\n",
       "      <td>0.000</td>\n",
       "      <td>235.30</td>\n",
       "      <td>10.4</td>\n",
       "      <td>0.0</td>\n",
       "      <td>0.0</td>\n",
       "      <td>0.0</td>\n",
       "    </tr>\n",
       "  </tbody>\n",
       "</table>\n",
       "<p>22717 rows × 7 columns</p>\n",
       "</div>"
      ],
      "text/plain": [
       "                     Global_active_power  Global_reactive_power  Voltage  \\\n",
       "Timestamp                                                                  \n",
       "2006-12-16 17:24:00                4.216                  0.418   234.84   \n",
       "2006-12-16 17:25:00                5.360                  0.436   233.63   \n",
       "2006-12-16 17:26:00                5.374                  0.498   233.29   \n",
       "2006-12-16 17:27:00                5.388                  0.502   233.74   \n",
       "2006-12-16 17:28:00                3.666                  0.528   235.68   \n",
       "...                                  ...                    ...      ...   \n",
       "2007-01-01 11:56:00                2.536                  0.000   238.26   \n",
       "2007-01-01 11:57:00                2.532                  0.000   237.95   \n",
       "2007-01-01 11:58:00                2.530                  0.000   237.85   \n",
       "2007-01-01 11:59:00                2.516                  0.000   237.18   \n",
       "2007-01-01 12:00:00                2.478                  0.000   235.30   \n",
       "\n",
       "                     Global_intensity  Sub_metering_1  Sub_metering_2  \\\n",
       "Timestamp                                                               \n",
       "2006-12-16 17:24:00              18.4             0.0             1.0   \n",
       "2006-12-16 17:25:00              23.0             0.0             1.0   \n",
       "2006-12-16 17:26:00              23.0             0.0             2.0   \n",
       "2006-12-16 17:27:00              23.0             0.0             1.0   \n",
       "2006-12-16 17:28:00              15.8             0.0             1.0   \n",
       "...                               ...             ...             ...   \n",
       "2007-01-01 11:56:00              10.6             0.0             0.0   \n",
       "2007-01-01 11:57:00              10.6             0.0             0.0   \n",
       "2007-01-01 11:58:00              10.6             0.0             0.0   \n",
       "2007-01-01 11:59:00              10.6             0.0             0.0   \n",
       "2007-01-01 12:00:00              10.4             0.0             0.0   \n",
       "\n",
       "                     Sub_metering_3  \n",
       "Timestamp                            \n",
       "2006-12-16 17:24:00            17.0  \n",
       "2006-12-16 17:25:00            16.0  \n",
       "2006-12-16 17:26:00            17.0  \n",
       "2006-12-16 17:27:00            17.0  \n",
       "2006-12-16 17:28:00            17.0  \n",
       "...                             ...  \n",
       "2007-01-01 11:56:00             0.0  \n",
       "2007-01-01 11:57:00             0.0  \n",
       "2007-01-01 11:58:00             0.0  \n",
       "2007-01-01 11:59:00             0.0  \n",
       "2007-01-01 12:00:00             0.0  \n",
       "\n",
       "[22717 rows x 7 columns]"
      ]
     },
     "execution_count": 260,
     "metadata": {},
     "output_type": "execute_result"
    }
   ],
   "source": [
    "data3"
   ]
  },
  {
   "cell_type": "code",
   "execution_count": 266,
   "id": "61f4467f",
   "metadata": {},
   "outputs": [
    {
     "data": {
      "text/plain": [
       "<AxesSubplot:xlabel='Timestamp'>"
      ]
     },
     "execution_count": 266,
     "metadata": {},
     "output_type": "execute_result"
    },
    {
     "data": {
      "image/png": "[encoded data removed]",
      "text/plain": [
       "<Figure size 432x288 with 1 Axes>"
      ]
     },
     "metadata": {
      "needs_background": "light"
     },
     "output_type": "display_data"
    }
   ],
   "source": [
    "data3.plot()"
   ]
  },
  {
   "cell_type": "code",
   "execution_count": 270,
   "id": "bafd2ad8",
   "metadata": {},
   "outputs": [
    {
     "name": "stdout",
     "output_type": "stream",
     "text": [
      "<class 'pandas.core.frame.DataFrame'>\n",
      "DatetimeIndex: 2075259 entries, 2006-12-16 17:24:00 to 2010-11-26 21:02:00\n",
      "Data columns (total 7 columns):\n",
      " #   Column                 Dtype  \n",
      "---  ------                 -----  \n",
      " 0   Global_active_power    float64\n",
      " 1   Global_reactive_power  float64\n",
      " 2   Voltage                float64\n",
      " 3   Global_intensity       float64\n",
      " 4   Sub_metering_1         float64\n",
      " 5   Sub_metering_2         float64\n",
      " 6   Sub_metering_3         float64\n",
      "dtypes: float64(7)\n",
      "memory usage: 126.7 MB\n"
     ]
    }
   ],
   "source": [
    "data.info()"
   ]
  },
  {
   "cell_type": "code",
   "execution_count": 271,
   "id": "3949f7ba",
   "metadata": {},
   "outputs": [],
   "source": [
    "data.to_pickle((LOCAL_PATH+'\\data_interpolated.pk1'))"
   ]
  },
  {
   "cell_type": "code",
   "execution_count": null,
   "id": "1d2e5512",
   "metadata": {},
   "outputs": [],
   "source": []
  }
 ],
 "metadata": {
  "kernelspec": {
   "display_name": "Python 3 (ipykernel)",
   "language": "python",
   "name": "python3"
  },
  "language_info": {
   "codemirror_mode": {
    "name": "ipython",
    "version": 3
   },
   "file_extension": ".py",
   "mimetype": "text/x-python",
   "name": "python",
   "nbconvert_exporter": "python",
   "pygments_lexer": "ipython3",
   "version": "3.9.1"
  }
 },
 "nbformat": 4,
 "nbformat_minor": 5
}
